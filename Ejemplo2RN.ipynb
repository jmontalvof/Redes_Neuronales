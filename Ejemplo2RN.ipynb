{
  "nbformat": 4,
  "nbformat_minor": 0,
  "metadata": {
    "colab": {
      "provenance": [],
      "authorship_tag": "ABX9TyNPaNxVVE5GEzBcD+3A/Sau",
      "include_colab_link": true
    },
    "kernelspec": {
      "name": "python3",
      "display_name": "Python 3"
    },
    "language_info": {
      "name": "python"
    }
  },
  "cells": [
    {
      "cell_type": "markdown",
      "metadata": {
        "id": "view-in-github",
        "colab_type": "text"
      },
      "source": [
        "<a href=\"https://colab.research.google.com/github/jmontalvof/Redes_Neuronales/blob/main/Ejemplo2RN.ipynb\" target=\"_parent\"><img src=\"https://colab.research.google.com/assets/colab-badge.svg\" alt=\"Open In Colab\"/></a>"
      ]
    },
    {
      "cell_type": "code",
      "execution_count": null,
      "metadata": {
        "id": "cogT6x1MzImu"
      },
      "outputs": [],
      "source": [
        "import tensorflow as tf\n",
        "from tensorflow.keras import layers, models\n",
        "from tensorflow.keras.datasets import cifar10\n",
        "from tensorflow.keras.utils import to_categorical"
      ]
    },
    {
      "cell_type": "code",
      "source": [
        "# Cargar el conjunto de datos CIFAR-10\n",
        "(train_images, train_labels), (test_images, test_labels) = cifar10.load_data()\n",
        "\n",
        "# Normalizar los datos al rango de 0 a 1\n",
        "train_images, test_images = train_images / 255.0, test_images / 255.0\n",
        "\n",
        "# Convertir etiquetas a one-hot encoding\n",
        "train_labels = to_categorical(train_labels)\n",
        "test_labels = to_categorical(test_labels)"
      ],
      "metadata": {
        "colab": {
          "base_uri": "https://localhost:8080/"
        },
        "id": "ZmrCSW0NzSkM",
        "outputId": "1db0d418-35dc-4e39-9053-63ea5d788607"
      },
      "execution_count": null,
      "outputs": [
        {
          "output_type": "stream",
          "name": "stdout",
          "text": [
            "Downloading data from https://www.cs.toronto.edu/~kriz/cifar-10-python.tar.gz\n",
            "170498071/170498071 [==============================] - 4s 0us/step\n"
          ]
        }
      ]
    },
    {
      "cell_type": "code",
      "source": [
        "model = models.Sequential([\n",
        "    # Capa convolucional, 32 filtros de 3x3, activación ReLU\n",
        "    layers.Conv2D(32, (3, 3), activation='relu', input_shape=(32, 32, 3)),\n",
        "    # Capa de pooling, reduciendo a la mitad las dimensiones espaciales\n",
        "    layers.MaxPooling2D((2, 2)),\n",
        "    # Otra capa convolucional con 64 filtros\n",
        "    layers.Conv2D(64, (3, 3), activation='relu'),\n",
        "    layers.MaxPooling2D((2, 2)),\n",
        "    # Otra capa convolucional con 64 filtros\n",
        "    layers.Conv2D(64, (3, 3), activation='relu'),\n",
        "    # Aplanar la salida para capas densas\n",
        "    layers.Flatten(),\n",
        "    # Capa densa con 64 neuronas\n",
        "    layers.Dense(64, activation='relu'),\n",
        "    # Capa de salida con 10 neuronas (por las 10 clases), activación softmax\n",
        "    layers.Dense(10, activation='softmax')\n",
        "])\n"
      ],
      "metadata": {
        "id": "SVrMm_90zerb"
      },
      "execution_count": null,
      "outputs": []
    },
    {
      "cell_type": "code",
      "source": [
        "model.compile(optimizer='adam',\n",
        "              loss='categorical_crossentropy',\n",
        "              metrics=['accuracy'])\n"
      ],
      "metadata": {
        "id": "LS5ebV2DzkuZ"
      },
      "execution_count": null,
      "outputs": []
    },
    {
      "cell_type": "code",
      "source": [
        "print(\"Entrenar Modelo\")\n",
        "history = model.fit(train_images, train_labels, epochs=10,\n",
        "                    validation_data=(test_images, test_labels))\n"
      ],
      "metadata": {
        "colab": {
          "base_uri": "https://localhost:8080/"
        },
        "id": "BncUq7Ylz7DB",
        "outputId": "683ce847-6341-4a45-e6f5-eb4a28c0212b"
      },
      "execution_count": null,
      "outputs": [
        {
          "output_type": "stream",
          "name": "stdout",
          "text": [
            "Entrenar Modelo\n",
            "Epoch 1/10\n",
            "1563/1563 [==============================] - 65s 41ms/step - loss: 1.5494 - accuracy: 0.4338 - val_loss: 1.2772 - val_accuracy: 0.5483\n",
            "Epoch 2/10\n",
            "1563/1563 [==============================] - 65s 41ms/step - loss: 1.1827 - accuracy: 0.5812 - val_loss: 1.0886 - val_accuracy: 0.6208\n",
            "Epoch 3/10\n",
            "1563/1563 [==============================] - 67s 43ms/step - loss: 1.0241 - accuracy: 0.6421 - val_loss: 0.9830 - val_accuracy: 0.6541\n",
            "Epoch 4/10\n",
            "1563/1563 [==============================] - 64s 41ms/step - loss: 0.9215 - accuracy: 0.6769 - val_loss: 0.9503 - val_accuracy: 0.6703\n",
            "Epoch 5/10\n",
            "1563/1563 [==============================] - 65s 42ms/step - loss: 0.8477 - accuracy: 0.7057 - val_loss: 0.8767 - val_accuracy: 0.6938\n",
            "Epoch 6/10\n",
            "1563/1563 [==============================] - 67s 43ms/step - loss: 0.7869 - accuracy: 0.7240 - val_loss: 0.8780 - val_accuracy: 0.7008\n",
            "Epoch 7/10\n",
            "1563/1563 [==============================] - 63s 40ms/step - loss: 0.7413 - accuracy: 0.7391 - val_loss: 0.8656 - val_accuracy: 0.7026\n",
            "Epoch 8/10\n",
            "1563/1563 [==============================] - 63s 40ms/step - loss: 0.6980 - accuracy: 0.7557 - val_loss: 0.8409 - val_accuracy: 0.7125\n",
            "Epoch 9/10\n",
            "1563/1563 [==============================] - 62s 40ms/step - loss: 0.6574 - accuracy: 0.7678 - val_loss: 0.8817 - val_accuracy: 0.7052\n",
            "Epoch 10/10\n",
            "1563/1563 [==============================] - 61s 39ms/step - loss: 0.6235 - accuracy: 0.7797 - val_loss: 0.8472 - val_accuracy: 0.7112\n"
          ]
        }
      ]
    },
    {
      "cell_type": "code",
      "source": [
        "print(\"Evaluando Modelo\")\n",
        "test_loss, test_acc = model.evaluate(test_images, test_labels, verbose=2)\n",
        "print('\\nTest accuracy:', test_acc)\n"
      ],
      "metadata": {
        "colab": {
          "base_uri": "https://localhost:8080/"
        },
        "id": "oeR4XKXy4kd4",
        "outputId": "fae768a0-8e15-4095-9f49-d725e62b3854"
      },
      "execution_count": null,
      "outputs": [
        {
          "output_type": "stream",
          "name": "stdout",
          "text": [
            "Evaluando Modelo\n",
            "313/313 - 3s - loss: 0.8472 - accuracy: 0.7112 - 3s/epoch - 10ms/step\n",
            "\n",
            "Test accuracy: 0.7111999988555908\n"
          ]
        }
      ]
    }
  ]
}